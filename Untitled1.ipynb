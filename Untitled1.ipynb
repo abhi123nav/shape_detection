{
 "cells": [
  {
   "cell_type": "code",
   "execution_count": 2,
   "metadata": {},
   "outputs": [],
   "source": [
    "import numpy as np"
   ]
  },
  {
   "cell_type": "code",
   "execution_count": 3,
   "metadata": {},
   "outputs": [],
   "source": [
    "import cv2"
   ]
  },
  {
   "cell_type": "code",
   "execution_count": 4,
   "metadata": {},
   "outputs": [],
   "source": [
    "#img=cv2.imread('F:\\imagedatabase\\standard_test_images\\\\IMG_1623.jpg')\n",
    "#cv2.imshow(\"img\",img)"
   ]
  },
  {
   "cell_type": "code",
   "execution_count": null,
   "metadata": {},
   "outputs": [],
   "source": [
    "img=cv2.imread('shapes.jpg')\n",
    "imgGrey=cv2.cvtColor(img,cv2.COLOR_BGR2GREY)\n",
    "_,thrash=cv2.threshhold(imgGrey,240,255,cv2.THRESH_BINARY)\n",
    "contours,_=cv2.findContours(thrash,cv2.RETR_TREE,cv2.CHAIN_APPROX_NONE)\n",
    "\n",
    "cv2.imshow(\"img\",img)\n",
    "for contour in contours:\n",
    "    approx=cv2.approxPolyDP(contours,0.01*,cv2.arcLength(contours,True),True)\n",
    "    cv2.drawContours(img,[approx],0,(0,0,0),5)\n",
    "    x=approx.ravel()[0]\n",
    "    y=approx.ravel()[1]\n",
    "    if len(approx)==4:\n",
    "        cv2.putText(img,\"Triangle\",(x,y),cv2.FONT_HERSHEY_COMPLEX,.5,(0,0,0))\n",
    "    elif len(approx)==4:\n",
    "        x1,y1,w,h=cv2.boundingRect(approx)\n",
    "        aspectRatio=float(w)/h\n",
    "        if aspectRatio>=.95 and aspectRatio<=1.05:\n",
    "            cv2.putText(img,\"square\",(x,y),cv2.FONT_HERSHEY_COMPLEX,.5,(0,0,0)))\n",
    "        else:\n",
    "            cv2.putText(img,\"rectangle\",(x,y),cv2.FONT_HERSHEY_COMPLEX,.5,(0,0,0)))\n",
    "    elif len(approx)==5:\n",
    "        cv2.putText(img,\"Pentagon\",(x,y),cv2.FONT_HERSHEY_COMPLEX,.5,(0,0,0)))\n",
    "    elif len(approx)==10:\n",
    "        cv2.putText(img,\"Star\",(x,y),cv2.FONT_HERSHEY_COMPLEX,.5,(0,0,0)))\n",
    "    else:\n",
    "        cv2.putText(img,\"Circle\",(x,y),cv2.FONT_HERSHEY_COMPLEX,.5,(0,0,0\n",
    "                                                                    \n",
    "    \n",
    "                                                                    \n",
    "cv2.imshow(\"shapes\",img) \n",
    "                                                                  \n",
    "cv2.waitKey(0)\n",
    "                                                                \n",
    "cv2.destroyAllWindows()\n",
    "                                                                    "
   ]
  }
 ],
 "metadata": {
  "kernelspec": {
   "display_name": "Python 3",
   "language": "python",
   "name": "python3"
  },
  "language_info": {
   "codemirror_mode": {
    "name": "ipython",
    "version": 3
   },
   "file_extension": ".py",
   "mimetype": "text/x-python",
   "name": "python",
   "nbconvert_exporter": "python",
   "pygments_lexer": "ipython3",
   "version": "3.7.4"
  }
 },
 "nbformat": 4,
 "nbformat_minor": 2
}
